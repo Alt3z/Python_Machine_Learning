{
  "cells": [
    {
      "cell_type": "code",
      "execution_count": null,
      "id": "f9cd088e",
      "metadata": {
        "id": "f9cd088e"
      },
      "outputs": [],
      "source": [
        "import pandas as pd\n",
        "import numpy as np\n",
        "import matplotlib.pyplot as plt\n",
        "import scipy.stats as stats\n",
        "from statsmodels.stats.proportion import proportions_ztest\n",
        "from sklearn.linear_model import LinearRegression"
      ]
    },
    {
      "cell_type": "code",
      "source": [
        "from google.colab import drive\n",
        "drive.mount('/content/drive')"
      ],
      "metadata": {
        "colab": {
          "base_uri": "https://localhost:8080/"
        },
        "id": "QVrkRiBUsuZX",
        "outputId": "9aba1aa7-f352-4ac4-ee6b-9cd16b22509c"
      },
      "id": "QVrkRiBUsuZX",
      "execution_count": null,
      "outputs": [
        {
          "output_type": "stream",
          "name": "stdout",
          "text": [
            "Drive already mounted at /content/drive; to attempt to forcibly remount, call drive.mount(\"/content/drive\", force_remount=True).\n"
          ]
        }
      ]
    },
    {
      "cell_type": "markdown",
      "id": "5d17027d",
      "metadata": {
        "id": "5d17027d"
      },
      "source": [
        "### Задание 1\n",
        "Загрузите датасет из файла heart.csv со следующими полями (выборка об уровне сердечных заболеваний:\n",
        "<ul>\n",
        "<li>age : Возраст\n",
        "<li>sex : Пол (1 = мужской; 0 = женский)\n",
        "<li>cp : боль в груди (0 - типичная, 1 - асимптотическая, 2 - неангинальная, 3 - нетипичная).\n",
        "<li>trestbps : кровяное давление в состоянии покоя.\n",
        "<li>chol : холестерин сыворотки в мг/дл.\n",
        "<li>fbs : уровень сахара в крови натощак > 120 мг/дл (1 = верно; 0 = неверно)\n",
        "<li>restecg : результаты электрокардиографии в состоянии покоя\n",
        "<li>thalach : максимальная частота сердечных сокращений\n",
        "<li>exang : стенокардия, вызванная физической нагрузкой (1 = да; 0 = нет)\n",
        "<li>oldpeak : депрессия ST, вызванная нагрузкой по сравнению с отдыхом.\n",
        "<li>slope : Наклон пикового сегмента ST при нагрузке.\n",
        "<li>ca : количество крупных сосудов, окрашенных флюороскопически (0–3).\n",
        "<li>thal : (3 = нормально; 6 = фиксированный дефект; 7 = обратимый дефект)\n",
        "<li>target : АГД - Диагностика заболеваний сердца (1 = да; 0 = нет)\n",
        "</ul>\n",
        "<ol>\n",
        "<li>Выведите полученный датасет на экран\n",
        "<li>Пользуясь загруженным датасетом, подтвердите или опровергните гипотезу, что доля населения, страдающего сердечными заболеваниями в городе N, превышает 46% (выведите \"да\", если это так, и \"нет\" в противном случае). Также выведите на экран полученное значение p-value, округлив его до 6 знаков после запятой.\n",
        "</ol>    "
      ]
    },
    {
      "cell_type": "code",
      "execution_count": null,
      "id": "78753d47",
      "metadata": {
        "id": "78753d47",
        "colab": {
          "base_uri": "https://localhost:8080/"
        },
        "outputId": "1724be64-0092-4a28-c6cc-903da5915ba3"
      },
      "outputs": [
        {
          "output_type": "stream",
          "name": "stdout",
          "text": [
            "Таблица 'heart':\n",
            "     age  sex  cp  trestbps  chol  fbs  restecg  thalach  exang  oldpeak  \\\n",
            "0     63    1   3       145   233    1        0      150      0      2.3   \n",
            "1     37    1   2       130   250    0        1      187      0      3.5   \n",
            "2     41    0   1       130   204    0        0      172      0      1.4   \n",
            "3     56    1   1       120   236    0        1      178      0      0.8   \n",
            "4     57    0   0       120   354    0        1      163      1      0.6   \n",
            "..   ...  ...  ..       ...   ...  ...      ...      ...    ...      ...   \n",
            "298   57    0   0       140   241    0        1      123      1      0.2   \n",
            "299   45    1   3       110   264    0        1      132      0      1.2   \n",
            "300   68    1   0       144   193    1        1      141      0      3.4   \n",
            "301   57    1   0       130   131    0        1      115      1      1.2   \n",
            "302   57    0   1       130   236    0        0      174      0      0.0   \n",
            "\n",
            "     slope  ca  thal  target  \n",
            "0        0   0     1       1  \n",
            "1        0   0     2       1  \n",
            "2        2   0     2       1  \n",
            "3        2   0     2       1  \n",
            "4        2   0     2       1  \n",
            "..     ...  ..   ...     ...  \n",
            "298      1   0     3       0  \n",
            "299      1   0     3       0  \n",
            "300      1   2     3       0  \n",
            "301      1   1     3       0  \n",
            "302      1   1     2       0  \n",
            "\n",
            "[303 rows x 14 columns]\n"
          ]
        }
      ],
      "source": [
        "df = pd.read_csv(\"/content/drive/MyDrive/heart.csv\", sep=',') # загружаем файл\n",
        "\n",
        "print(f\"Таблица 'heart':\\n{df}\")"
      ]
    },
    {
      "cell_type": "code",
      "source": [
        "target_1 = df['target'].sum() # считаем количество людей с болезнью сердца\n",
        "all_people = df.shape[0] # находим общее количество человек в выборке\n",
        "\n",
        "z_test, p_value = proportions_ztest(target_1 ,all_people , 0.46) # используем z-test\n",
        "\n",
        "print(f'Превышает ли доля населения, страдающего сердечными заболеваниями, 46% от всего населения: {p_value <= 0.05}')\n",
        "print(f'Значение p-value: {p_value:.6f}')"
      ],
      "metadata": {
        "colab": {
          "base_uri": "https://localhost:8080/"
        },
        "id": "3XRRXSwKuCP7",
        "outputId": "c49a5b7c-d6a6-4f76-85b1-0aca7b0c3e9a"
      },
      "id": "3XRRXSwKuCP7",
      "execution_count": null,
      "outputs": [
        {
          "output_type": "stream",
          "name": "stdout",
          "text": [
            "Превышает ли доля населения, страдающего сердечными заболеваниями, 46% от всего населения: True\n",
            "Значение p-value: 0.003122\n"
          ]
        }
      ]
    },
    {
      "cell_type": "markdown",
      "id": "9f0182cc",
      "metadata": {
        "id": "9f0182cc"
      },
      "source": [
        "### Задание 2\n",
        "Есть предположение, что среднее давление мужчин и женщин в состоянии покоя в городе N не отличается. Но некоторыми учеными была выдвинута гипотеза, что женщины имеют среднее давление выше чем мужины. Примите или опровергните альтернативную гипотезу. Для этого предварительно убедитесь, что генеральные совокупности имеют равные дисперсии и что обе выборки имеют распределение, близкое к нормальному (с помощью гистограммы). Выведите значение p-value, округлив до 6 знаков после запятой.\n"
      ]
    },
    {
      "cell_type": "code",
      "execution_count": null,
      "id": "1937efeb",
      "metadata": {
        "id": "1937efeb"
      },
      "outputs": [],
      "source": [
        "m_df = df[df['sex'] == 1] # датафрэйм только с мужчинами\n",
        "f_df = df[df['sex'] == 0] # датафрэйм только с женищинами"
      ]
    },
    {
      "cell_type": "code",
      "source": [
        "equality_test = max(np.var(m_df['trestbps']), np.var(f_df['trestbps']))/min(np.var(m_df['trestbps']), np.var(f_df['trestbps'])) # проверка на раверство дисперсий\n",
        "print(f'Дисперсии равны: {equality_test<4}')"
      ],
      "metadata": {
        "colab": {
          "base_uri": "https://localhost:8080/"
        },
        "id": "wNK65uLEUWOj",
        "outputId": "78ab5d77-796f-486b-9ab8-dc9b70f819bb"
      },
      "id": "wNK65uLEUWOj",
      "execution_count": null,
      "outputs": [
        {
          "output_type": "stream",
          "name": "stdout",
          "text": [
            "Дисперсии равны: True\n"
          ]
        }
      ]
    },
    {
      "cell_type": "code",
      "source": [
        "df['trestbps'].hist() # выводим гистограмму, из которой свидно, что распределение нормальное"
      ],
      "metadata": {
        "colab": {
          "base_uri": "https://localhost:8080/",
          "height": 447
        },
        "id": "gPglrAd7WjV-",
        "outputId": "70ca9095-b338-4846-f5ed-c0767b5652c4"
      },
      "id": "gPglrAd7WjV-",
      "execution_count": null,
      "outputs": [
        {
          "output_type": "execute_result",
          "data": {
            "text/plain": [
              "<Axes: >"
            ]
          },
          "metadata": {},
          "execution_count": 58
        },
        {
          "output_type": "display_data",
          "data": {
            "text/plain": [
              "<Figure size 640x480 with 1 Axes>"
            ],
            "image/png": "[encoded data removed]"
          },
          "metadata": {}
        }
      ]
    },
    {
      "cell_type": "code",
      "source": [
        "t_test, p_value = stats.ttest_ind(a=m_df['trestbps'], b=f_df['trestbps'], equal_var=True) # t-test\n",
        "print(f'Альтернативная гипотеза о том, что женщины имеют среднее давление выше, чем мужчины, подтверждается: {p_value <= 0.05}')\n",
        "print(f'Значение p-value: {p_value:.6f}')"
      ],
      "metadata": {
        "colab": {
          "base_uri": "https://localhost:8080/"
        },
        "id": "w5spdRPPUSxh",
        "outputId": "3752b828-0e6f-4ca8-c20e-2261d011ee61"
      },
      "id": "w5spdRPPUSxh",
      "execution_count": null,
      "outputs": [
        {
          "output_type": "stream",
          "name": "stdout",
          "text": [
            "Альтернативная гипотеза о том, что женщины имеют среднее давление выше, чем мужчины, подтверждается: False\n",
            "Значение p-value: 0.324683\n"
          ]
        }
      ]
    },
    {
      "cell_type": "markdown",
      "id": "3016ce42",
      "metadata": {
        "id": "3016ce42"
      },
      "source": [
        "### Задание 3\n",
        "Считается, что средний уровень холестерина среди населения старше 60 лет, равен 250. Была выдвинута гипотеза, что это не так (что она не равна 250). Примите или опровергните эту гипотезу.Выведите значени p-value."
      ]
    },
    {
      "cell_type": "code",
      "execution_count": null,
      "id": "40a4149e",
      "metadata": {
        "id": "40a4149e"
      },
      "outputs": [],
      "source": [
        "chol_df = df[df['age'] > 60] #датафрэйм с людьми за 60"
      ]
    },
    {
      "cell_type": "code",
      "source": [
        "t_test, p_value = stats.ttest_1samp (chol_df['chol'], 250) # t-test, двухвостый так как во второй гипотезы знак !=\n",
        "print(f'Альтернативная гипотеза о том, что средний уровень холестерина среди населения старше 60 лет, не равен 250, подтверждается: {p_value <= 0.025}')\n",
        "print(f'Значение p-value: {p_value}')"
      ],
      "metadata": {
        "colab": {
          "base_uri": "https://localhost:8080/"
        },
        "id": "QRVY-uAQZIuH",
        "outputId": "6eae6c36-bb98-487c-f332-394b91b7c94c"
      },
      "id": "QRVY-uAQZIuH",
      "execution_count": null,
      "outputs": [
        {
          "output_type": "stream",
          "name": "stdout",
          "text": [
            "Альтернативная гипотеза о том, что средний уровень холестерина среди населения старше 60 лет, не равен 250, подтверждается: False\n",
            "Значение p-value: 0.15876173897401408\n"
          ]
        }
      ]
    },
    {
      "cell_type": "markdown",
      "id": "64fd7807",
      "metadata": {
        "id": "64fd7807"
      },
      "source": [
        "### Задание 4\n",
        "Вычислите доверительный интервал с уровнем точности 95% для среднего значения максимальной частоты сердечных сокращений населения в городе N."
      ]
    },
    {
      "cell_type": "code",
      "execution_count": null,
      "id": "4130cce8",
      "metadata": {
        "id": "4130cce8",
        "colab": {
          "base_uri": "https://localhost:8080/"
        },
        "outputId": "5f417fb2-7c3f-48be-e0ba-1b2701782fcb"
      },
      "outputs": [
        {
          "output_type": "stream",
          "name": "stdout",
          "text": [
            "Доверительный интервал с уровнем точности 95% для среднего значения максимальной частоты сердечных сокращений: (147.0678125139342, 152.22591685900312)\n"
          ]
        }
      ],
      "source": [
        "trusting_interval = stats.norm.interval(confidence = 0.95, loc = np.mean(df['thalach']), scale = stats.sem(df['thalach']))\n",
        "print(f'Доверительный интервал с уровнем точности 95% для среднего значения максимальной частоты сердечных сокращений: {trusting_interval}')"
      ]
    }
  ],
  "metadata": {
    "kernelspec": {
      "display_name": "Python 3 (ipykernel)",
      "language": "python",
      "name": "python3"
    },
    "language_info": {
      "codemirror_mode": {
        "name": "ipython",
        "version": 3
      },
      "file_extension": ".py",
      "mimetype": "text/x-python",
      "name": "python",
      "nbconvert_exporter": "python",
      "pygments_lexer": "ipython3",
      "version": "3.9.7"
    },
    "colab": {
      "provenance": []
    }
  },
  "nbformat": 4,
  "nbformat_minor": 5
}